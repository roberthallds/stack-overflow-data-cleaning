{
 "cells": [
  {
   "cell_type": "markdown",
   "metadata": {},
   "source": [
    "# Analyzing and Handling Missing Data from a Stack Overflow Survey\n",
    "\n",
    "A portfolio project completed for my Codecademy Data Scientist: Machine Learning Engineer certification.\n",
    "\n",
    "Robert Hall\n",
    "Began 05/17/2024"
   ]
  },
  {
   "cell_type": "markdown",
   "metadata": {},
   "source": [
    "### Table of Contents:\n",
    "(Click on the hyperlink to go to each section)\n",
    "\n",
    "* [Step 1:](#step-1-import-the-data-and-develop-baseline-observations-about-the-numeric-features) Import the data and develop baseline observations about the numeric features\n",
    "* [Step 2:](#step-2-delete-missing-data-in-rows-with--60-missing-data) Delete missing data in rows with > 60% missing data\n",
    "* [Step 3:](#step-3-analyze-developers-by-country-of-origin) Analyze developers by country of origin\n",
    "* [Step 4:](#step-4-handle-missing-data-from-employment-and-developer-type-devtype-columns) Drop missing data from MCAR Employment and Developer Type (DevType) columns using pairwise deletion\n",
    "* [Step 5:](#step-5-determine-the-quantities-of-a-given-developer-type-present-in-each-country) Determine the quantities of a given developer type present in each country\n",
    "* [Step 6:](#step-6-observe-the-trend-in-missing-or-no-undergraduate-major-declarations-in-the-survey-among-developers-over-the-years) Observe the trend in missing or no undergraduate major declarations in the survey among developers over the years\n",
    "* [Step 7:](#step-7-fill-in-missing-undergraduate-data-carrying-next-observation-backward-nocb) Fill in missing undergraduate data, carrying next observation backward (NOCB)\n",
    "* [Step 8:](#step-8-examine-relationship-between-years-of-experience-and-compensation-across-all-surveyed-developers-for-each-year) Examine relationship between years of experience and compensation across all surveyed developers, for each year\n",
    "* [Step 9:](#step-9-fill-in-missing-data-points-generating-well-fitted-data-and-using-multiple-imputation) Fill in missing data points, generating well-fitted data and using multiple imputation\n",
    "* [Step 10:](#step-10-examine-relationship-between-years-of-professional-experience-yearscodepro-and-convertedcomp-post-imputation) Examine relationship between years of professional experience (YearsCodePro) and ConvertedComp post-imputation\n",
    "* [Summary Analysis and Overall Takeaways](#summary-analysis-and-key-takeaways)"
   ]
  },
  {
   "cell_type": "markdown",
   "metadata": {},
   "source": [
    "### Step 1: Import the data and develop baseline observations about the numeric features"
   ]
  },
  {
   "cell_type": "code",
   "execution_count": 62,
   "metadata": {},
   "outputs": [],
   "source": [
    "# import libraries to be used\n",
    "\n",
    "import pandas as pd\n",
    "import matplotlib.pyplot as plt\n",
    "import seaborn as sns\n",
    "import warnings"
   ]
  },
  {
   "cell_type": "code",
   "execution_count": 63,
   "metadata": {},
   "outputs": [
    {
     "name": "stdout",
     "output_type": "stream",
     "text": [
      "Index(['RespondentID', 'Year', 'Country', 'Employment', 'UndergradMajor',\n",
      "       'DevType', 'LanguageWorkedWith', 'LanguageDesireNextYear',\n",
      "       'DatabaseWorkedWith', 'DatabaseDesireNextYear', 'PlatformWorkedWith',\n",
      "       'PlatformDesireNextYear', 'Hobbyist', 'OrgSize', 'YearsCodePro',\n",
      "       'JobSeek', 'ConvertedComp', 'WorkWeekHrs', 'NEWJobHunt',\n",
      "       'NEWJobHuntResearch', 'NEWLearn'],\n",
      "      dtype='object')\n"
     ]
    }
   ],
   "source": [
    "# silence warnings regarding multiple data types for certain columns \n",
    "# (ones which will be dropped later for having too much missing data)\n",
    "warnings.filterwarnings('ignore', category=pd.errors.DtypeWarning)\n",
    "\n",
    "# retrieve data from CSV and convert into DataFrame\n",
    "data = pd.read_csv('developer_dataset.csv')\n",
    "print(data.columns)"
   ]
  },
  {
   "cell_type": "code",
   "execution_count": 64,
   "metadata": {},
   "outputs": [
    {
     "data": {
      "text/html": [
       "<div>\n",
       "<style scoped>\n",
       "    .dataframe tbody tr th:only-of-type {\n",
       "        vertical-align: middle;\n",
       "    }\n",
       "\n",
       "    .dataframe tbody tr th {\n",
       "        vertical-align: top;\n",
       "    }\n",
       "\n",
       "    .dataframe thead th {\n",
       "        text-align: right;\n",
       "    }\n",
       "</style>\n",
       "<table border=\"1\" class=\"dataframe\">\n",
       "  <thead>\n",
       "    <tr style=\"text-align: right;\">\n",
       "      <th></th>\n",
       "      <th>RespondentID</th>\n",
       "      <th>Year</th>\n",
       "      <th>Country</th>\n",
       "      <th>Employment</th>\n",
       "      <th>UndergradMajor</th>\n",
       "      <th>DevType</th>\n",
       "      <th>LanguageWorkedWith</th>\n",
       "      <th>LanguageDesireNextYear</th>\n",
       "      <th>DatabaseWorkedWith</th>\n",
       "      <th>DatabaseDesireNextYear</th>\n",
       "      <th>...</th>\n",
       "      <th>PlatformDesireNextYear</th>\n",
       "      <th>Hobbyist</th>\n",
       "      <th>OrgSize</th>\n",
       "      <th>YearsCodePro</th>\n",
       "      <th>JobSeek</th>\n",
       "      <th>ConvertedComp</th>\n",
       "      <th>WorkWeekHrs</th>\n",
       "      <th>NEWJobHunt</th>\n",
       "      <th>NEWJobHuntResearch</th>\n",
       "      <th>NEWLearn</th>\n",
       "    </tr>\n",
       "  </thead>\n",
       "  <tbody>\n",
       "    <tr>\n",
       "      <th>0</th>\n",
       "      <td>1</td>\n",
       "      <td>2018</td>\n",
       "      <td>United States</td>\n",
       "      <td>Employed full-time</td>\n",
       "      <td>Computer science, computer engineering, or sof...</td>\n",
       "      <td>Engineering manager;Full-stack developer</td>\n",
       "      <td>NaN</td>\n",
       "      <td>NaN</td>\n",
       "      <td>NaN</td>\n",
       "      <td>NaN</td>\n",
       "      <td>...</td>\n",
       "      <td>NaN</td>\n",
       "      <td>NaN</td>\n",
       "      <td>NaN</td>\n",
       "      <td>NaN</td>\n",
       "      <td>NaN</td>\n",
       "      <td>141000.0</td>\n",
       "      <td>NaN</td>\n",
       "      <td>NaN</td>\n",
       "      <td>NaN</td>\n",
       "      <td>NaN</td>\n",
       "    </tr>\n",
       "    <tr>\n",
       "      <th>1</th>\n",
       "      <td>1</td>\n",
       "      <td>2019</td>\n",
       "      <td>United States</td>\n",
       "      <td>Employed full-time</td>\n",
       "      <td>Computer science, computer engineering, or sof...</td>\n",
       "      <td>Developer, full-stack</td>\n",
       "      <td>C;C++;C#;Python;SQL</td>\n",
       "      <td>C;C#;JavaScript;SQL</td>\n",
       "      <td>MySQL;SQLite</td>\n",
       "      <td>MySQL;SQLite</td>\n",
       "      <td>...</td>\n",
       "      <td>Linux;Windows</td>\n",
       "      <td>No</td>\n",
       "      <td>100 to 499 employees</td>\n",
       "      <td>1.0</td>\n",
       "      <td>I am not interested in new job opportunities</td>\n",
       "      <td>61000.0</td>\n",
       "      <td>80.0</td>\n",
       "      <td>NaN</td>\n",
       "      <td>NaN</td>\n",
       "      <td>NaN</td>\n",
       "    </tr>\n",
       "    <tr>\n",
       "      <th>2</th>\n",
       "      <td>1</td>\n",
       "      <td>2020</td>\n",
       "      <td>United States</td>\n",
       "      <td>Employed full-time</td>\n",
       "      <td>Computer science, computer engineering, or sof...</td>\n",
       "      <td>NaN</td>\n",
       "      <td>HTML/CSS;Ruby;SQL</td>\n",
       "      <td>Java;Ruby;Scala</td>\n",
       "      <td>MySQL;PostgreSQL;Redis;SQLite</td>\n",
       "      <td>MySQL;PostgreSQL</td>\n",
       "      <td>...</td>\n",
       "      <td>Docker;Google Cloud Platform;Heroku;Linux;Windows</td>\n",
       "      <td>Yes</td>\n",
       "      <td>NaN</td>\n",
       "      <td>8.0</td>\n",
       "      <td>NaN</td>\n",
       "      <td>NaN</td>\n",
       "      <td>NaN</td>\n",
       "      <td>NaN</td>\n",
       "      <td>NaN</td>\n",
       "      <td>Once a year</td>\n",
       "    </tr>\n",
       "    <tr>\n",
       "      <th>3</th>\n",
       "      <td>2</td>\n",
       "      <td>2018</td>\n",
       "      <td>United States</td>\n",
       "      <td>Employed full-time</td>\n",
       "      <td>Computer science, computer engineering, or sof...</td>\n",
       "      <td>Full-stack developer</td>\n",
       "      <td>C#;JavaScript;SQL;TypeScript;HTML;CSS;Bash/Shell</td>\n",
       "      <td>C#;JavaScript;SQL;TypeScript;HTML;CSS;Bash/Shell</td>\n",
       "      <td>SQL Server;Microsoft Azure (Tables, CosmosDB, ...</td>\n",
       "      <td>SQL Server;Microsoft Azure (Tables, CosmosDB, ...</td>\n",
       "      <td>...</td>\n",
       "      <td>Azure</td>\n",
       "      <td>NaN</td>\n",
       "      <td>NaN</td>\n",
       "      <td>4.0</td>\n",
       "      <td>NaN</td>\n",
       "      <td>48000.0</td>\n",
       "      <td>NaN</td>\n",
       "      <td>NaN</td>\n",
       "      <td>NaN</td>\n",
       "      <td>NaN</td>\n",
       "    </tr>\n",
       "    <tr>\n",
       "      <th>4</th>\n",
       "      <td>2</td>\n",
       "      <td>2019</td>\n",
       "      <td>United States</td>\n",
       "      <td>Employed full-time</td>\n",
       "      <td>Computer science, computer engineering, or sof...</td>\n",
       "      <td>Data or business analyst;Database administrato...</td>\n",
       "      <td>Bash/Shell/PowerShell;HTML/CSS;JavaScript;PHP;...</td>\n",
       "      <td>Bash/Shell/PowerShell;HTML/CSS;JavaScript;Rust...</td>\n",
       "      <td>Couchbase;DynamoDB;Firebase;MySQL</td>\n",
       "      <td>Firebase;MySQL;Redis</td>\n",
       "      <td>...</td>\n",
       "      <td>Android;AWS;Docker;IBM Cloud or Watson;Linux;S...</td>\n",
       "      <td>Yes</td>\n",
       "      <td>10 to 19 employees</td>\n",
       "      <td>8.0</td>\n",
       "      <td>I am not interested in new job opportunities</td>\n",
       "      <td>90000.0</td>\n",
       "      <td>40.0</td>\n",
       "      <td>NaN</td>\n",
       "      <td>NaN</td>\n",
       "      <td>NaN</td>\n",
       "    </tr>\n",
       "  </tbody>\n",
       "</table>\n",
       "<p>5 rows × 21 columns</p>\n",
       "</div>"
      ],
      "text/plain": [
       "   RespondentID  Year        Country          Employment  \\\n",
       "0             1  2018  United States  Employed full-time   \n",
       "1             1  2019  United States  Employed full-time   \n",
       "2             1  2020  United States  Employed full-time   \n",
       "3             2  2018  United States  Employed full-time   \n",
       "4             2  2019  United States  Employed full-time   \n",
       "\n",
       "                                      UndergradMajor  \\\n",
       "0  Computer science, computer engineering, or sof...   \n",
       "1  Computer science, computer engineering, or sof...   \n",
       "2  Computer science, computer engineering, or sof...   \n",
       "3  Computer science, computer engineering, or sof...   \n",
       "4  Computer science, computer engineering, or sof...   \n",
       "\n",
       "                                             DevType  \\\n",
       "0           Engineering manager;Full-stack developer   \n",
       "1                              Developer, full-stack   \n",
       "2                                                NaN   \n",
       "3                               Full-stack developer   \n",
       "4  Data or business analyst;Database administrato...   \n",
       "\n",
       "                                  LanguageWorkedWith  \\\n",
       "0                                                NaN   \n",
       "1                                C;C++;C#;Python;SQL   \n",
       "2                                  HTML/CSS;Ruby;SQL   \n",
       "3   C#;JavaScript;SQL;TypeScript;HTML;CSS;Bash/Shell   \n",
       "4  Bash/Shell/PowerShell;HTML/CSS;JavaScript;PHP;...   \n",
       "\n",
       "                              LanguageDesireNextYear  \\\n",
       "0                                                NaN   \n",
       "1                                C;C#;JavaScript;SQL   \n",
       "2                                    Java;Ruby;Scala   \n",
       "3   C#;JavaScript;SQL;TypeScript;HTML;CSS;Bash/Shell   \n",
       "4  Bash/Shell/PowerShell;HTML/CSS;JavaScript;Rust...   \n",
       "\n",
       "                                  DatabaseWorkedWith  \\\n",
       "0                                                NaN   \n",
       "1                                       MySQL;SQLite   \n",
       "2                      MySQL;PostgreSQL;Redis;SQLite   \n",
       "3  SQL Server;Microsoft Azure (Tables, CosmosDB, ...   \n",
       "4                  Couchbase;DynamoDB;Firebase;MySQL   \n",
       "\n",
       "                              DatabaseDesireNextYear  ...  \\\n",
       "0                                                NaN  ...   \n",
       "1                                       MySQL;SQLite  ...   \n",
       "2                                   MySQL;PostgreSQL  ...   \n",
       "3  SQL Server;Microsoft Azure (Tables, CosmosDB, ...  ...   \n",
       "4                               Firebase;MySQL;Redis  ...   \n",
       "\n",
       "                              PlatformDesireNextYear Hobbyist  \\\n",
       "0                                                NaN      NaN   \n",
       "1                                      Linux;Windows       No   \n",
       "2  Docker;Google Cloud Platform;Heroku;Linux;Windows      Yes   \n",
       "3                                              Azure      NaN   \n",
       "4  Android;AWS;Docker;IBM Cloud or Watson;Linux;S...      Yes   \n",
       "\n",
       "                OrgSize YearsCodePro  \\\n",
       "0                   NaN          NaN   \n",
       "1  100 to 499 employees          1.0   \n",
       "2                   NaN          8.0   \n",
       "3                   NaN          4.0   \n",
       "4    10 to 19 employees          8.0   \n",
       "\n",
       "                                        JobSeek ConvertedComp  WorkWeekHrs  \\\n",
       "0                                           NaN      141000.0          NaN   \n",
       "1  I am not interested in new job opportunities       61000.0         80.0   \n",
       "2                                           NaN           NaN          NaN   \n",
       "3                                           NaN       48000.0          NaN   \n",
       "4  I am not interested in new job opportunities       90000.0         40.0   \n",
       "\n",
       "   NEWJobHunt NEWJobHuntResearch     NEWLearn  \n",
       "0         NaN                NaN          NaN  \n",
       "1         NaN                NaN          NaN  \n",
       "2         NaN                NaN  Once a year  \n",
       "3         NaN                NaN          NaN  \n",
       "4         NaN                NaN          NaN  \n",
       "\n",
       "[5 rows x 21 columns]"
      ]
     },
     "execution_count": 64,
     "metadata": {},
     "output_type": "execute_result"
    }
   ],
   "source": [
    "# print the first 5 rows of each column to get overview of tabular structure\n",
    "data.head()"
   ]
  },
  {
   "cell_type": "code",
   "execution_count": 65,
   "metadata": {},
   "outputs": [
    {
     "data": {
      "text/plain": [
       "RespondentID              111209\n",
       "Year                      111209\n",
       "Country                   111209\n",
       "Employment                109425\n",
       "UndergradMajor             98453\n",
       "DevType                   100433\n",
       "LanguageWorkedWith        102018\n",
       "LanguageDesireNextYear     96044\n",
       "DatabaseWorkedWith         85859\n",
       "DatabaseDesireNextYear     74234\n",
       "PlatformWorkedWith         91609\n",
       "PlatformDesireNextYear     85376\n",
       "Hobbyist                   68352\n",
       "OrgSize                    54804\n",
       "YearsCodePro               94793\n",
       "JobSeek                    60556\n",
       "ConvertedComp              91333\n",
       "WorkWeekHrs                51089\n",
       "NEWJobHunt                 19127\n",
       "NEWJobHuntResearch         18683\n",
       "NEWLearn                   24226\n",
       "dtype: int64"
      ]
     },
     "execution_count": 65,
     "metadata": {},
     "output_type": "execute_result"
    }
   ],
   "source": [
    "# return counts of non-null data points in each feature\n",
    "data.count()"
   ]
  },
  {
   "cell_type": "code",
   "execution_count": 66,
   "metadata": {},
   "outputs": [
    {
     "data": {
      "text/html": [
       "<div>\n",
       "<style scoped>\n",
       "    .dataframe tbody tr th:only-of-type {\n",
       "        vertical-align: middle;\n",
       "    }\n",
       "\n",
       "    .dataframe tbody tr th {\n",
       "        vertical-align: top;\n",
       "    }\n",
       "\n",
       "    .dataframe thead th {\n",
       "        text-align: right;\n",
       "    }\n",
       "</style>\n",
       "<table border=\"1\" class=\"dataframe\">\n",
       "  <thead>\n",
       "    <tr style=\"text-align: right;\">\n",
       "      <th></th>\n",
       "      <th>RespondentID</th>\n",
       "      <th>Year</th>\n",
       "      <th>YearsCodePro</th>\n",
       "      <th>ConvertedComp</th>\n",
       "      <th>WorkWeekHrs</th>\n",
       "    </tr>\n",
       "  </thead>\n",
       "  <tbody>\n",
       "    <tr>\n",
       "      <th>count</th>\n",
       "      <td>111209.000000</td>\n",
       "      <td>111209.000000</td>\n",
       "      <td>94793.000000</td>\n",
       "      <td>9.133300e+04</td>\n",
       "      <td>51089.000000</td>\n",
       "    </tr>\n",
       "    <tr>\n",
       "      <th>mean</th>\n",
       "      <td>19262.039709</td>\n",
       "      <td>2018.854832</td>\n",
       "      <td>9.547045</td>\n",
       "      <td>1.251777e+05</td>\n",
       "      <td>41.051670</td>\n",
       "    </tr>\n",
       "    <tr>\n",
       "      <th>std</th>\n",
       "      <td>11767.011322</td>\n",
       "      <td>0.777503</td>\n",
       "      <td>7.548931</td>\n",
       "      <td>2.461218e+05</td>\n",
       "      <td>13.833929</td>\n",
       "    </tr>\n",
       "    <tr>\n",
       "      <th>min</th>\n",
       "      <td>1.000000</td>\n",
       "      <td>2018.000000</td>\n",
       "      <td>0.000000</td>\n",
       "      <td>0.000000e+00</td>\n",
       "      <td>1.000000</td>\n",
       "    </tr>\n",
       "    <tr>\n",
       "      <th>25%</th>\n",
       "      <td>9268.000000</td>\n",
       "      <td>2018.000000</td>\n",
       "      <td>4.000000</td>\n",
       "      <td>4.600000e+04</td>\n",
       "      <td>40.000000</td>\n",
       "    </tr>\n",
       "    <tr>\n",
       "      <th>50%</th>\n",
       "      <td>18535.000000</td>\n",
       "      <td>2019.000000</td>\n",
       "      <td>8.000000</td>\n",
       "      <td>7.900000e+04</td>\n",
       "      <td>40.000000</td>\n",
       "    </tr>\n",
       "    <tr>\n",
       "      <th>75%</th>\n",
       "      <td>28347.000000</td>\n",
       "      <td>2019.000000</td>\n",
       "      <td>14.000000</td>\n",
       "      <td>1.200000e+05</td>\n",
       "      <td>42.000000</td>\n",
       "    </tr>\n",
       "    <tr>\n",
       "      <th>max</th>\n",
       "      <td>42857.000000</td>\n",
       "      <td>2020.000000</td>\n",
       "      <td>50.000000</td>\n",
       "      <td>2.000000e+06</td>\n",
       "      <td>475.000000</td>\n",
       "    </tr>\n",
       "  </tbody>\n",
       "</table>\n",
       "</div>"
      ],
      "text/plain": [
       "        RespondentID           Year  YearsCodePro  ConvertedComp   WorkWeekHrs\n",
       "count  111209.000000  111209.000000  94793.000000   9.133300e+04  51089.000000\n",
       "mean    19262.039709    2018.854832      9.547045   1.251777e+05     41.051670\n",
       "std     11767.011322       0.777503      7.548931   2.461218e+05     13.833929\n",
       "min         1.000000    2018.000000      0.000000   0.000000e+00      1.000000\n",
       "25%      9268.000000    2018.000000      4.000000   4.600000e+04     40.000000\n",
       "50%     18535.000000    2019.000000      8.000000   7.900000e+04     40.000000\n",
       "75%     28347.000000    2019.000000     14.000000   1.200000e+05     42.000000\n",
       "max     42857.000000    2020.000000     50.000000   2.000000e+06    475.000000"
      ]
     },
     "execution_count": 66,
     "metadata": {},
     "output_type": "execute_result"
    }
   ],
   "source": [
    "# print descriptive statistics for all numerical columns\n",
    "data.describe()"
   ]
  },
  {
   "cell_type": "markdown",
   "metadata": {},
   "source": [
    "### Step 2: Delete missing data in rows with > 60% missing data\n",
    "[Click Here to go to Table of Contents](#table-of-contents)"
   ]
  },
  {
   "cell_type": "code",
   "execution_count": 67,
   "metadata": {},
   "outputs": [
    {
     "name": "stdout",
     "output_type": "stream",
     "text": [
      "PERCENT MISSING DATA: \n",
      "\n",
      "RespondentID               0.00\n",
      "Year                       0.00\n",
      "Country                    0.00\n",
      "Employment                 1.60\n",
      "UndergradMajor            11.47\n",
      "DevType                    9.69\n",
      "LanguageWorkedWith         8.26\n",
      "LanguageDesireNextYear    13.64\n",
      "DatabaseWorkedWith        22.79\n",
      "DatabaseDesireNextYear    33.25\n",
      "PlatformWorkedWith        17.62\n",
      "PlatformDesireNextYear    23.23\n",
      "Hobbyist                  38.54\n",
      "OrgSize                   50.72\n",
      "YearsCodePro              14.76\n",
      "JobSeek                   45.55\n",
      "ConvertedComp             17.87\n",
      "WorkWeekHrs               54.06\n",
      "NEWJobHunt                82.80\n",
      "NEWJobHuntResearch        83.20\n",
      "NEWLearn                  78.22\n",
      "dtype: float64\n"
     ]
    }
   ],
   "source": [
    "# determine percentage missing data for each feature\n",
    "total_rows = data['RespondentID'].count()\n",
    "\n",
    "missing_data = round((1 - data.count() / total_rows) * 100, 2)\n",
    "\n",
    "print(\"PERCENT MISSING DATA: \\n\")\n",
    "print(missing_data)"
   ]
  },
  {
   "cell_type": "code",
   "execution_count": 68,
   "metadata": {},
   "outputs": [
    {
     "name": "stdout",
     "output_type": "stream",
     "text": [
      "RespondentID              False\n",
      "Year                      False\n",
      "Country                   False\n",
      "Employment                False\n",
      "UndergradMajor            False\n",
      "DevType                   False\n",
      "LanguageWorkedWith        False\n",
      "LanguageDesireNextYear    False\n",
      "DatabaseWorkedWith        False\n",
      "DatabaseDesireNextYear    False\n",
      "PlatformWorkedWith        False\n",
      "PlatformDesireNextYear    False\n",
      "Hobbyist                  False\n",
      "OrgSize                   False\n",
      "YearsCodePro              False\n",
      "JobSeek                   False\n",
      "ConvertedComp             False\n",
      "WorkWeekHrs               False\n",
      "NEWJobHunt                 True\n",
      "NEWJobHuntResearch         True\n",
      "NEWLearn                   True\n",
      "dtype: bool\n"
     ]
    }
   ],
   "source": [
    "# print out which data frames should be removed based on\n",
    "# large proportion of data that is missing\n",
    "data_to_remove = missing_data >= 60.0\n",
    "print(data_to_remove)"
   ]
  },
  {
   "cell_type": "code",
   "execution_count": 69,
   "metadata": {},
   "outputs": [
    {
     "data": {
      "text/html": [
       "<div>\n",
       "<style scoped>\n",
       "    .dataframe tbody tr th:only-of-type {\n",
       "        vertical-align: middle;\n",
       "    }\n",
       "\n",
       "    .dataframe tbody tr th {\n",
       "        vertical-align: top;\n",
       "    }\n",
       "\n",
       "    .dataframe thead th {\n",
       "        text-align: right;\n",
       "    }\n",
       "</style>\n",
       "<table border=\"1\" class=\"dataframe\">\n",
       "  <thead>\n",
       "    <tr style=\"text-align: right;\">\n",
       "      <th></th>\n",
       "      <th>RespondentID</th>\n",
       "      <th>Year</th>\n",
       "      <th>Country</th>\n",
       "      <th>Employment</th>\n",
       "      <th>UndergradMajor</th>\n",
       "      <th>DevType</th>\n",
       "      <th>LanguageWorkedWith</th>\n",
       "      <th>LanguageDesireNextYear</th>\n",
       "      <th>DatabaseWorkedWith</th>\n",
       "      <th>DatabaseDesireNextYear</th>\n",
       "      <th>PlatformWorkedWith</th>\n",
       "      <th>PlatformDesireNextYear</th>\n",
       "      <th>Hobbyist</th>\n",
       "      <th>OrgSize</th>\n",
       "      <th>YearsCodePro</th>\n",
       "      <th>JobSeek</th>\n",
       "      <th>ConvertedComp</th>\n",
       "      <th>WorkWeekHrs</th>\n",
       "    </tr>\n",
       "  </thead>\n",
       "  <tbody>\n",
       "    <tr>\n",
       "      <th>0</th>\n",
       "      <td>1</td>\n",
       "      <td>2018</td>\n",
       "      <td>United States</td>\n",
       "      <td>Employed full-time</td>\n",
       "      <td>Computer science, computer engineering, or sof...</td>\n",
       "      <td>Engineering manager;Full-stack developer</td>\n",
       "      <td>NaN</td>\n",
       "      <td>NaN</td>\n",
       "      <td>NaN</td>\n",
       "      <td>NaN</td>\n",
       "      <td>NaN</td>\n",
       "      <td>NaN</td>\n",
       "      <td>NaN</td>\n",
       "      <td>NaN</td>\n",
       "      <td>NaN</td>\n",
       "      <td>NaN</td>\n",
       "      <td>141000.0</td>\n",
       "      <td>NaN</td>\n",
       "    </tr>\n",
       "    <tr>\n",
       "      <th>1</th>\n",
       "      <td>1</td>\n",
       "      <td>2019</td>\n",
       "      <td>United States</td>\n",
       "      <td>Employed full-time</td>\n",
       "      <td>Computer science, computer engineering, or sof...</td>\n",
       "      <td>Developer, full-stack</td>\n",
       "      <td>C;C++;C#;Python;SQL</td>\n",
       "      <td>C;C#;JavaScript;SQL</td>\n",
       "      <td>MySQL;SQLite</td>\n",
       "      <td>MySQL;SQLite</td>\n",
       "      <td>Linux;Windows</td>\n",
       "      <td>Linux;Windows</td>\n",
       "      <td>No</td>\n",
       "      <td>100 to 499 employees</td>\n",
       "      <td>1.0</td>\n",
       "      <td>I am not interested in new job opportunities</td>\n",
       "      <td>61000.0</td>\n",
       "      <td>80.0</td>\n",
       "    </tr>\n",
       "    <tr>\n",
       "      <th>2</th>\n",
       "      <td>1</td>\n",
       "      <td>2020</td>\n",
       "      <td>United States</td>\n",
       "      <td>Employed full-time</td>\n",
       "      <td>Computer science, computer engineering, or sof...</td>\n",
       "      <td>NaN</td>\n",
       "      <td>HTML/CSS;Ruby;SQL</td>\n",
       "      <td>Java;Ruby;Scala</td>\n",
       "      <td>MySQL;PostgreSQL;Redis;SQLite</td>\n",
       "      <td>MySQL;PostgreSQL</td>\n",
       "      <td>AWS;Docker;Linux;MacOS;Windows</td>\n",
       "      <td>Docker;Google Cloud Platform;Heroku;Linux;Windows</td>\n",
       "      <td>Yes</td>\n",
       "      <td>NaN</td>\n",
       "      <td>8.0</td>\n",
       "      <td>NaN</td>\n",
       "      <td>NaN</td>\n",
       "      <td>NaN</td>\n",
       "    </tr>\n",
       "    <tr>\n",
       "      <th>3</th>\n",
       "      <td>2</td>\n",
       "      <td>2018</td>\n",
       "      <td>United States</td>\n",
       "      <td>Employed full-time</td>\n",
       "      <td>Computer science, computer engineering, or sof...</td>\n",
       "      <td>Full-stack developer</td>\n",
       "      <td>C#;JavaScript;SQL;TypeScript;HTML;CSS;Bash/Shell</td>\n",
       "      <td>C#;JavaScript;SQL;TypeScript;HTML;CSS;Bash/Shell</td>\n",
       "      <td>SQL Server;Microsoft Azure (Tables, CosmosDB, ...</td>\n",
       "      <td>SQL Server;Microsoft Azure (Tables, CosmosDB, ...</td>\n",
       "      <td>Azure</td>\n",
       "      <td>Azure</td>\n",
       "      <td>NaN</td>\n",
       "      <td>NaN</td>\n",
       "      <td>4.0</td>\n",
       "      <td>NaN</td>\n",
       "      <td>48000.0</td>\n",
       "      <td>NaN</td>\n",
       "    </tr>\n",
       "    <tr>\n",
       "      <th>4</th>\n",
       "      <td>2</td>\n",
       "      <td>2019</td>\n",
       "      <td>United States</td>\n",
       "      <td>Employed full-time</td>\n",
       "      <td>Computer science, computer engineering, or sof...</td>\n",
       "      <td>Data or business analyst;Database administrato...</td>\n",
       "      <td>Bash/Shell/PowerShell;HTML/CSS;JavaScript;PHP;...</td>\n",
       "      <td>Bash/Shell/PowerShell;HTML/CSS;JavaScript;Rust...</td>\n",
       "      <td>Couchbase;DynamoDB;Firebase;MySQL</td>\n",
       "      <td>Firebase;MySQL;Redis</td>\n",
       "      <td>Android;AWS;Docker;IBM Cloud or Watson;iOS;Lin...</td>\n",
       "      <td>Android;AWS;Docker;IBM Cloud or Watson;Linux;S...</td>\n",
       "      <td>Yes</td>\n",
       "      <td>10 to 19 employees</td>\n",
       "      <td>8.0</td>\n",
       "      <td>I am not interested in new job opportunities</td>\n",
       "      <td>90000.0</td>\n",
       "      <td>40.0</td>\n",
       "    </tr>\n",
       "  </tbody>\n",
       "</table>\n",
       "</div>"
      ],
      "text/plain": [
       "   RespondentID  Year        Country          Employment  \\\n",
       "0             1  2018  United States  Employed full-time   \n",
       "1             1  2019  United States  Employed full-time   \n",
       "2             1  2020  United States  Employed full-time   \n",
       "3             2  2018  United States  Employed full-time   \n",
       "4             2  2019  United States  Employed full-time   \n",
       "\n",
       "                                      UndergradMajor  \\\n",
       "0  Computer science, computer engineering, or sof...   \n",
       "1  Computer science, computer engineering, or sof...   \n",
       "2  Computer science, computer engineering, or sof...   \n",
       "3  Computer science, computer engineering, or sof...   \n",
       "4  Computer science, computer engineering, or sof...   \n",
       "\n",
       "                                             DevType  \\\n",
       "0           Engineering manager;Full-stack developer   \n",
       "1                              Developer, full-stack   \n",
       "2                                                NaN   \n",
       "3                               Full-stack developer   \n",
       "4  Data or business analyst;Database administrato...   \n",
       "\n",
       "                                  LanguageWorkedWith  \\\n",
       "0                                                NaN   \n",
       "1                                C;C++;C#;Python;SQL   \n",
       "2                                  HTML/CSS;Ruby;SQL   \n",
       "3   C#;JavaScript;SQL;TypeScript;HTML;CSS;Bash/Shell   \n",
       "4  Bash/Shell/PowerShell;HTML/CSS;JavaScript;PHP;...   \n",
       "\n",
       "                              LanguageDesireNextYear  \\\n",
       "0                                                NaN   \n",
       "1                                C;C#;JavaScript;SQL   \n",
       "2                                    Java;Ruby;Scala   \n",
       "3   C#;JavaScript;SQL;TypeScript;HTML;CSS;Bash/Shell   \n",
       "4  Bash/Shell/PowerShell;HTML/CSS;JavaScript;Rust...   \n",
       "\n",
       "                                  DatabaseWorkedWith  \\\n",
       "0                                                NaN   \n",
       "1                                       MySQL;SQLite   \n",
       "2                      MySQL;PostgreSQL;Redis;SQLite   \n",
       "3  SQL Server;Microsoft Azure (Tables, CosmosDB, ...   \n",
       "4                  Couchbase;DynamoDB;Firebase;MySQL   \n",
       "\n",
       "                              DatabaseDesireNextYear  \\\n",
       "0                                                NaN   \n",
       "1                                       MySQL;SQLite   \n",
       "2                                   MySQL;PostgreSQL   \n",
       "3  SQL Server;Microsoft Azure (Tables, CosmosDB, ...   \n",
       "4                               Firebase;MySQL;Redis   \n",
       "\n",
       "                                  PlatformWorkedWith  \\\n",
       "0                                                NaN   \n",
       "1                                      Linux;Windows   \n",
       "2                     AWS;Docker;Linux;MacOS;Windows   \n",
       "3                                              Azure   \n",
       "4  Android;AWS;Docker;IBM Cloud or Watson;iOS;Lin...   \n",
       "\n",
       "                              PlatformDesireNextYear Hobbyist  \\\n",
       "0                                                NaN      NaN   \n",
       "1                                      Linux;Windows       No   \n",
       "2  Docker;Google Cloud Platform;Heroku;Linux;Windows      Yes   \n",
       "3                                              Azure      NaN   \n",
       "4  Android;AWS;Docker;IBM Cloud or Watson;Linux;S...      Yes   \n",
       "\n",
       "                OrgSize  YearsCodePro  \\\n",
       "0                   NaN           NaN   \n",
       "1  100 to 499 employees           1.0   \n",
       "2                   NaN           8.0   \n",
       "3                   NaN           4.0   \n",
       "4    10 to 19 employees           8.0   \n",
       "\n",
       "                                        JobSeek  ConvertedComp  WorkWeekHrs  \n",
       "0                                           NaN       141000.0          NaN  \n",
       "1  I am not interested in new job opportunities        61000.0         80.0  \n",
       "2                                           NaN            NaN          NaN  \n",
       "3                                           NaN        48000.0          NaN  \n",
       "4  I am not interested in new job opportunities        90000.0         40.0  "
      ]
     },
     "execution_count": 69,
     "metadata": {},
     "output_type": "execute_result"
    }
   ],
   "source": [
    "# drop NEWJobHunt, NEWJobHuntResearch and NEWLearn from the dataframe\n",
    "data.drop(['NEWJobHunt', 'NEWJobHuntResearch', 'NEWLearn'],\n",
    "          axis=1,\n",
    "          inplace=True)\n",
    "\n",
    "data.head()"
   ]
  },
  {
   "cell_type": "markdown",
   "metadata": {},
   "source": [
    "### Step 3. Analyze developers by country of origin\n",
    "[Click Here to go to Table of Contents](#table-of-contents)"
   ]
  },
  {
   "cell_type": "code",
   "execution_count": 70,
   "metadata": {},
   "outputs": [
    {
     "data": {
      "text/html": [
       "<div>\n",
       "<style scoped>\n",
       "    .dataframe tbody tr th:only-of-type {\n",
       "        vertical-align: middle;\n",
       "    }\n",
       "\n",
       "    .dataframe tbody tr th {\n",
       "        vertical-align: top;\n",
       "    }\n",
       "\n",
       "    .dataframe thead th {\n",
       "        text-align: right;\n",
       "    }\n",
       "</style>\n",
       "<table border=\"1\" class=\"dataframe\">\n",
       "  <thead>\n",
       "    <tr style=\"text-align: right;\">\n",
       "      <th></th>\n",
       "      <th>Country</th>\n",
       "      <th>RespondentID</th>\n",
       "    </tr>\n",
       "  </thead>\n",
       "  <tbody>\n",
       "    <tr>\n",
       "      <th>0</th>\n",
       "      <td>Japan</td>\n",
       "      <td>1049</td>\n",
       "    </tr>\n",
       "    <tr>\n",
       "      <th>1</th>\n",
       "      <td>Mexico</td>\n",
       "      <td>1918</td>\n",
       "    </tr>\n",
       "    <tr>\n",
       "      <th>2</th>\n",
       "      <td>China</td>\n",
       "      <td>2072</td>\n",
       "    </tr>\n",
       "    <tr>\n",
       "      <th>3</th>\n",
       "      <td>Spain</td>\n",
       "      <td>4534</td>\n",
       "    </tr>\n",
       "    <tr>\n",
       "      <th>4</th>\n",
       "      <td>France</td>\n",
       "      <td>6861</td>\n",
       "    </tr>\n",
       "    <tr>\n",
       "      <th>5</th>\n",
       "      <td>Canada</td>\n",
       "      <td>8979</td>\n",
       "    </tr>\n",
       "    <tr>\n",
       "      <th>6</th>\n",
       "      <td>United Kingdom</td>\n",
       "      <td>15854</td>\n",
       "    </tr>\n",
       "    <tr>\n",
       "      <th>7</th>\n",
       "      <td>Germany</td>\n",
       "      <td>16215</td>\n",
       "    </tr>\n",
       "    <tr>\n",
       "      <th>8</th>\n",
       "      <td>United States</td>\n",
       "      <td>53727</td>\n",
       "    </tr>\n",
       "  </tbody>\n",
       "</table>\n",
       "</div>"
      ],
      "text/plain": [
       "          Country  RespondentID\n",
       "0           Japan          1049\n",
       "1          Mexico          1918\n",
       "2           China          2072\n",
       "3           Spain          4534\n",
       "4          France          6861\n",
       "5          Canada          8979\n",
       "6  United Kingdom         15854\n",
       "7         Germany         16215\n",
       "8   United States         53727"
      ]
     },
     "execution_count": 70,
     "metadata": {},
     "output_type": "execute_result"
    }
   ],
   "source": [
    "# print new dataframe with total observations per country\n",
    "country_counts = data[['Country', 'RespondentID']].groupby('Country').count().sort_values(by='RespondentID').reset_index()\n",
    "country_counts"
   ]
  },
  {
   "cell_type": "code",
   "execution_count": 71,
   "metadata": {},
   "outputs": [
    {
     "data": {
      "image/png": "[encoded data removed]",
      "text/plain": [
       "<Figure size 432x288 with 1 Axes>"
      ]
     },
     "metadata": {},
     "output_type": "display_data"
    },
    {
     "data": {
      "text/plain": [
       "<Figure size 432x288 with 0 Axes>"
      ]
     },
     "metadata": {},
     "output_type": "display_data"
    }
   ],
   "source": [
    "# create pie chart to visualize  each country's representation in the survey\n",
    "\n",
    "# restructure the dataframe to have an \"other\" category, representing countries with a low proportion of the data, \n",
    "# to prevent overcrowding labels\n",
    "threshold = 4000\n",
    "low_counts = country_counts[country_counts['RespondentID'] < threshold].sum()\n",
    "low_counts['Country'] = 'other'\n",
    "low_counts = pd.DataFrame([low_counts])\n",
    "country_counts_trimmed = country_counts[country_counts['RespondentID'] >= threshold]\n",
    "country_counts_trimmed = pd.concat([country_counts_trimmed, low_counts], ignore_index=True)\n",
    "country_counts_trimmed\n",
    "\n",
    "# plot pie chart visualizing proportional representation of each country in the survey, with countries having less than 4000\n",
    "# respondents in the 'other' category\n",
    "plt.pie(country_counts_trimmed['RespondentID'],\n",
    "        labels=country_counts_trimmed['Country'],\n",
    "        textprops={'color': 'white'},\n",
    "        autopct=\"%1.1f%%\",\n",
    "        labeldistance=1.2)\n",
    "plt.axis('equal')\n",
    "plt.show()\n",
    "plt.clf()"
   ]
  },
  {
   "cell_type": "markdown",
   "metadata": {},
   "source": [
    "### Step 4: Handle missing data from Employment and Developer Type (DevType) columns\n",
    "[Click Here to go to Table of Contents](#table-of-contents)"
   ]
  },
  {
   "cell_type": "code",
   "execution_count": 72,
   "metadata": {},
   "outputs": [
    {
     "data": {
      "text/html": [
       "<div>\n",
       "<style scoped>\n",
       "    .dataframe tbody tr th:only-of-type {\n",
       "        vertical-align: middle;\n",
       "    }\n",
       "\n",
       "    .dataframe tbody tr th {\n",
       "        vertical-align: top;\n",
       "    }\n",
       "\n",
       "    .dataframe thead th {\n",
       "        text-align: right;\n",
       "    }\n",
       "</style>\n",
       "<table border=\"1\" class=\"dataframe\">\n",
       "  <thead>\n",
       "    <tr style=\"text-align: right;\">\n",
       "      <th></th>\n",
       "      <th>Country</th>\n",
       "      <th>Employment</th>\n",
       "      <th>DevType</th>\n",
       "    </tr>\n",
       "  </thead>\n",
       "  <tbody>\n",
       "    <tr>\n",
       "      <th>0</th>\n",
       "      <td>Canada</td>\n",
       "      <td>148</td>\n",
       "      <td>944</td>\n",
       "    </tr>\n",
       "    <tr>\n",
       "      <th>1</th>\n",
       "      <td>China</td>\n",
       "      <td>139</td>\n",
       "      <td>491</td>\n",
       "    </tr>\n",
       "    <tr>\n",
       "      <th>2</th>\n",
       "      <td>France</td>\n",
       "      <td>104</td>\n",
       "      <td>848</td>\n",
       "    </tr>\n",
       "    <tr>\n",
       "      <th>3</th>\n",
       "      <td>Germany</td>\n",
       "      <td>386</td>\n",
       "      <td>1691</td>\n",
       "    </tr>\n",
       "    <tr>\n",
       "      <th>4</th>\n",
       "      <td>Japan</td>\n",
       "      <td>13</td>\n",
       "      <td>109</td>\n",
       "    </tr>\n",
       "    <tr>\n",
       "      <th>5</th>\n",
       "      <td>Mexico</td>\n",
       "      <td>25</td>\n",
       "      <td>207</td>\n",
       "    </tr>\n",
       "    <tr>\n",
       "      <th>6</th>\n",
       "      <td>Spain</td>\n",
       "      <td>74</td>\n",
       "      <td>434</td>\n",
       "    </tr>\n",
       "    <tr>\n",
       "      <th>7</th>\n",
       "      <td>United Kingdom</td>\n",
       "      <td>196</td>\n",
       "      <td>1472</td>\n",
       "    </tr>\n",
       "    <tr>\n",
       "      <th>8</th>\n",
       "      <td>United States</td>\n",
       "      <td>699</td>\n",
       "      <td>4580</td>\n",
       "    </tr>\n",
       "  </tbody>\n",
       "</table>\n",
       "</div>"
      ],
      "text/plain": [
       "          Country  Employment  DevType\n",
       "0          Canada         148      944\n",
       "1           China         139      491\n",
       "2          France         104      848\n",
       "3         Germany         386     1691\n",
       "4           Japan          13      109\n",
       "5          Mexico          25      207\n",
       "6           Spain          74      434\n",
       "7  United Kingdom         196     1472\n",
       "8   United States         699     4580"
      ]
     },
     "execution_count": 72,
     "metadata": {},
     "output_type": "execute_result"
    }
   ],
   "source": [
    "# develop a table of null-value quantities for the Employment and DevType columns, grouped by Country\n",
    "missing_data = data[['Employment', 'DevType']].isnull().groupby(data['Country']).sum().reset_index()\n",
    "missing_data"
   ]
  },
  {
   "cell_type": "code",
   "execution_count": 73,
   "metadata": {},
   "outputs": [
    {
     "data": {
      "text/plain": [
       "Text(0.5, 0.98, 'Missing Data in Developer Type Column with respect to Country of Origin')"
      ]
     },
     "execution_count": 73,
     "metadata": {},
     "output_type": "execute_result"
    },
    {
     "data": {
      "image/png": "[encoded data removed]",
      "text/plain": [
       "<Figure size 864x432 with 1 Axes>"
      ]
     },
     "metadata": {
      "needs_background": "light"
     },
     "output_type": "display_data"
    },
    {
     "data": {
      "image/png": "[encoded data removed]",
      "text/plain": [
       "<Figure size 864x432 with 1 Axes>"
      ]
     },
     "metadata": {
      "needs_background": "light"
     },
     "output_type": "display_data"
    }
   ],
   "source": [
    "# plot the amount of missing data in the Employment and Developer Type (DevType)\n",
    "# columns, grouped by country of origin.\n",
    "\n",
    "A=sns.catplot(\n",
    "    data=missing_data, kind=\"bar\",\n",
    "    x=\"Country\", y=\"Employment\",\n",
    "    height = 6, aspect = 2)\n",
    "A.figure.suptitle(\"Missing Data in Employment Column with respect to Country of Origin\")\n",
    "B=sns.catplot(\n",
    "    data=missing_data, kind=\"bar\",\n",
    "    x=\"Country\", y=\"DevType\",\n",
    "    height = 6, aspect = 2)\n",
    "B.figure.suptitle(\"Missing Data in Developer Type Column with respect to Country of Origin\")"
   ]
  },
  {
   "cell_type": "code",
   "execution_count": 74,
   "metadata": {},
   "outputs": [
    {
     "data": {
      "image/png": "[encoded data removed]",
      "text/plain": [
       "<Figure size 432x288 with 1 Axes>"
      ]
     },
     "metadata": {},
     "output_type": "display_data"
    },
    {
     "data": {
      "text/plain": [
       "<Figure size 432x288 with 0 Axes>"
      ]
     },
     "metadata": {},
     "output_type": "display_data"
    }
   ],
   "source": [
    "# create a pie chart visualizing the proportion of missing data in each country, and compare with\n",
    "# data from the entire sample to determine the likely type of missing data\n",
    "\n",
    "# restructure the dataframe to have an \"other\" category, representing countries with a low proportion of the data, \n",
    "# to prevent overcrowding labels\n",
    "threshold = 100\n",
    "low_counts = missing_data[missing_data['Employment'] < threshold].sum()\n",
    "low_counts['Country'] = 'other'\n",
    "low_counts = pd.DataFrame([low_counts])\n",
    "country_counts_trimmed = missing_data[missing_data['Employment'] >= threshold]\n",
    "country_counts_trimmed = pd.concat([country_counts_trimmed, low_counts], ignore_index=True)\n",
    "country_counts_trimmed\n",
    "\n",
    "# plot pie chart to visualize proportions of total missing data in employment category, grouped by country\n",
    "plt.pie(country_counts_trimmed['Employment'],\n",
    "        labels=country_counts_trimmed['Country'],\n",
    "        textprops={'color': 'white'},\n",
    "        autopct=\"%1.1f%%\",\n",
    "        labeldistance=1.2)\n",
    "plt.axis('equal')\n",
    "plt.show()\n",
    "plt.clf()"
   ]
  },
  {
   "cell_type": "code",
   "execution_count": 75,
   "metadata": {},
   "outputs": [
    {
     "data": {
      "image/png": "[encoded data removed]",
      "text/plain": [
       "<Figure size 432x288 with 1 Axes>"
      ]
     },
     "metadata": {},
     "output_type": "display_data"
    },
    {
     "data": {
      "text/plain": [
       "<Figure size 432x288 with 0 Axes>"
      ]
     },
     "metadata": {},
     "output_type": "display_data"
    }
   ],
   "source": [
    "# restructure the dataframe to have an \"other\" category, representing countries with a low proportion of the data, \n",
    "# to prevent overcrowding labels\n",
    "threshold = 450\n",
    "low_counts = missing_data[missing_data['DevType'] < threshold].sum()\n",
    "low_counts['Country'] = 'other'\n",
    "low_counts = pd.DataFrame([low_counts])\n",
    "country_counts_trimmed = missing_data[missing_data['DevType'] >= threshold]\n",
    "country_counts_trimmed = pd.concat([country_counts_trimmed, low_counts], ignore_index=True)\n",
    "country_counts_trimmed\n",
    "\n",
    "# plot pie chart to visualize proportions of total missing data in employment category, grouped by country\n",
    "plt.pie(country_counts_trimmed['DevType'],\n",
    "        labels=country_counts_trimmed['Country'],\n",
    "        textprops={'color': 'white'},\n",
    "        autopct=\"%1.1f%%\",\n",
    "        labeldistance=1.2)\n",
    "plt.axis('equal')\n",
    "plt.show()\n",
    "plt.clf()"
   ]
  },
  {
   "cell_type": "markdown",
   "metadata": {},
   "source": [
    "Missing data in each country is roughly proportional to the size of the country represented in the sample, therefore the missing data in these columns is, most likely, missing completely at random."
   ]
  },
  {
   "cell_type": "code",
   "execution_count": 76,
   "metadata": {},
   "outputs": [
    {
     "data": {
      "text/html": [
       "<div>\n",
       "<style scoped>\n",
       "    .dataframe tbody tr th:only-of-type {\n",
       "        vertical-align: middle;\n",
       "    }\n",
       "\n",
       "    .dataframe tbody tr th {\n",
       "        vertical-align: top;\n",
       "    }\n",
       "\n",
       "    .dataframe thead th {\n",
       "        text-align: right;\n",
       "    }\n",
       "</style>\n",
       "<table border=\"1\" class=\"dataframe\">\n",
       "  <thead>\n",
       "    <tr style=\"text-align: right;\">\n",
       "      <th></th>\n",
       "      <th>Country</th>\n",
       "      <th>Employment</th>\n",
       "      <th>DevType</th>\n",
       "    </tr>\n",
       "  </thead>\n",
       "  <tbody>\n",
       "    <tr>\n",
       "      <th>0</th>\n",
       "      <td>Canada</td>\n",
       "      <td>0</td>\n",
       "      <td>0</td>\n",
       "    </tr>\n",
       "    <tr>\n",
       "      <th>1</th>\n",
       "      <td>China</td>\n",
       "      <td>0</td>\n",
       "      <td>0</td>\n",
       "    </tr>\n",
       "    <tr>\n",
       "      <th>2</th>\n",
       "      <td>France</td>\n",
       "      <td>0</td>\n",
       "      <td>0</td>\n",
       "    </tr>\n",
       "    <tr>\n",
       "      <th>3</th>\n",
       "      <td>Germany</td>\n",
       "      <td>0</td>\n",
       "      <td>0</td>\n",
       "    </tr>\n",
       "    <tr>\n",
       "      <th>4</th>\n",
       "      <td>Japan</td>\n",
       "      <td>0</td>\n",
       "      <td>0</td>\n",
       "    </tr>\n",
       "    <tr>\n",
       "      <th>5</th>\n",
       "      <td>Mexico</td>\n",
       "      <td>0</td>\n",
       "      <td>0</td>\n",
       "    </tr>\n",
       "    <tr>\n",
       "      <th>6</th>\n",
       "      <td>Spain</td>\n",
       "      <td>0</td>\n",
       "      <td>0</td>\n",
       "    </tr>\n",
       "    <tr>\n",
       "      <th>7</th>\n",
       "      <td>United Kingdom</td>\n",
       "      <td>0</td>\n",
       "      <td>0</td>\n",
       "    </tr>\n",
       "    <tr>\n",
       "      <th>8</th>\n",
       "      <td>United States</td>\n",
       "      <td>0</td>\n",
       "      <td>0</td>\n",
       "    </tr>\n",
       "  </tbody>\n",
       "</table>\n",
       "</div>"
      ],
      "text/plain": [
       "          Country  Employment  DevType\n",
       "0          Canada           0        0\n",
       "1           China           0        0\n",
       "2          France           0        0\n",
       "3         Germany           0        0\n",
       "4           Japan           0        0\n",
       "5          Mexico           0        0\n",
       "6           Spain           0        0\n",
       "7  United Kingdom           0        0\n",
       "8   United States           0        0"
      ]
     },
     "execution_count": 76,
     "metadata": {},
     "output_type": "execute_result"
    }
   ],
   "source": [
    "# drop missing data using pairwise deletion\n",
    "data.dropna(subset=['Employment', 'DevType'],\n",
    "            inplace=True,\n",
    "            how='any')\n",
    "\n",
    "# display total missing data in each column, to verify that all NaN values were dropped\n",
    "data[['Employment', 'DevType']].isnull().groupby(data['Country']).sum().reset_index()"
   ]
  },
  {
   "cell_type": "markdown",
   "metadata": {},
   "source": [
    "### Step 5: Determine the quantities of a given developer type present in each country\n",
    "[Click Here to go to Table of Contents](#table-of-contents)"
   ]
  },
  {
   "cell_type": "code",
   "execution_count": 77,
   "metadata": {},
   "outputs": [
    {
     "data": {
      "image/png": "[encoded data removed]",
      "text/plain": [
       "<Figure size 3240x432 with 5 Axes>"
      ]
     },
     "metadata": {
      "needs_background": "light"
     },
     "output_type": "display_data"
    }
   ],
   "source": [
    "# create an isolated dataframe with only the necessary data for this task\n",
    "dev_data = data[['Country', 'DevType']].copy()\n",
    "dev_data.head()\n",
    "\n",
    "# create boolean features for each developer type\n",
    "dev_data.loc[dev_data['DevType'].str.contains('back-end'), 'BackEnd'] = True\n",
    "dev_data.loc[dev_data['DevType'].str.contains('front-end'), 'FrontEnd'] = True\n",
    "dev_data.loc[dev_data['DevType'].str.contains('full-stack'), 'FullStack'] = True\n",
    "dev_data.loc[dev_data['DevType'].str.contains('mobile'), 'Mobile'] = True\n",
    "dev_data.loc[dev_data['DevType'].str.contains('administrator'), 'Admin'] = True\n",
    "\n",
    "dev_data = dev_data.melt(id_vars=['Country'], \n",
    "                         value_vars=['BackEnd',\n",
    "                                     'FrontEnd',\n",
    "                                     'FullStack',\n",
    "                                     'Mobile',\n",
    "                                     'Admin'], \n",
    "                         var_name='DevCat',\n",
    "                         value_name='DevFlag')\n",
    "\n",
    "# drop null values (which are irrelevant to visualizing)\n",
    "dev_data.dropna(how='any', inplace=True)\n",
    "\n",
    "# plot data\n",
    "devFig = sns.catplot(x=\"Country\", col=\"DevCat\",\n",
    "                     data=dev_data, kind=\"count\",\n",
    "                     height=6, aspect=1.5)"
   ]
  },
  {
   "cell_type": "markdown",
   "metadata": {},
   "source": [
    "### Step 6: Observe the trend in missing or no undergraduate major declarations in the survey among developers over the years\n",
    "[Click Here to go to Table of Contents](#table-of-contents)"
   ]
  },
  {
   "cell_type": "code",
   "execution_count": 78,
   "metadata": {},
   "outputs": [
    {
     "data": {
      "text/plain": [
       "<seaborn.axisgrid.FacetGrid at 0x1d1f5c80f40>"
      ]
     },
     "execution_count": 78,
     "metadata": {},
     "output_type": "execute_result"
    },
    {
     "data": {
      "image/png": "[encoded data removed]",
      "text/plain": [
       "<Figure size 288x288 with 1 Axes>"
      ]
     },
     "metadata": {
      "needs_background": "light"
     },
     "output_type": "display_data"
    }
   ],
   "source": [
    "# analyze the amount of missing data for the Undergraduate Major (UndergradMajor)\n",
    "# column for each year surveyed.\n",
    "no_undergraduate = data['UndergradMajor'].isnull().groupby(data['Year']).sum().reset_index()\n",
    "sns.catplot(x='Year',\n",
    "            y='UndergradMajor',\n",
    "            data=no_undergraduate,\n",
    "            kind='bar',\n",
    "            height=4, aspect=1)"
   ]
  },
  {
   "cell_type": "code",
   "execution_count": 92,
   "metadata": {},
   "outputs": [
    {
     "data": {
      "text/plain": [
       "2018    40045\n",
       "2019    38261\n",
       "2020    21669\n",
       "Name: Year, dtype: int64"
      ]
     },
     "execution_count": 92,
     "metadata": {},
     "output_type": "execute_result"
    }
   ],
   "source": [
    "# analyze the total respondents for each year\n",
    "\n",
    "counts_per_year = data['Year'].value_counts()\n",
    "counts_per_year"
   ]
  },
  {
   "cell_type": "markdown",
   "metadata": {},
   "source": [
    "### Step 7: Fill in missing undergraduate data, carrying next observation backward (NOCB)\n",
    "[Click Here to go to Table of Contents](#table-of-contents)"
   ]
  },
  {
   "cell_type": "code",
   "execution_count": 80,
   "metadata": {},
   "outputs": [],
   "source": [
    "# sort dataset in terms of RespondentID and in\n",
    "# chronological order\n",
    "data = data.sort_values(['RespondentID', 'Year'])\n",
    "\n",
    "# use NOCB to fill missing data points in the \n",
    "# UndergradMajor column\n",
    "data['UndergradMajor'].bfill(axis=0, inplace=True)"
   ]
  },
  {
   "cell_type": "code",
   "execution_count": 81,
   "metadata": {},
   "outputs": [
    {
     "data": {
      "image/png": "[encoded data removed]",
      "text/plain": [
       "<Figure size 3240x432 with 5 Axes>"
      ]
     },
     "metadata": {
      "needs_background": "light"
     },
     "output_type": "display_data"
    }
   ],
   "source": [
    "# list of most prominent major groups in S/O survey\n",
    "majors = ['social science',\n",
    "          'natural science',\n",
    "          'computer science',\n",
    "          'development',\n",
    "          'another engineering',\n",
    "          'never declared']\n",
    "\n",
    "# create new dataframe containing Year and Undergraduate\n",
    "# major (UndergradMajor) data, and drop all null values\n",
    "edu_data = data[['Year', 'UndergradMajor']].copy()\n",
    "edu_data.dropna(how='any', inplace=True)\n",
    "\n",
    "# create boolean columns for each major type\n",
    "edu_data.loc[edu_data['UndergradMajor'].str.contains('(?i)social science'), 'SocialScience'] = True\n",
    "edu_data.loc[edu_data['UndergradMajor'].str.contains('(?i)natural science'), 'NaturalScience'] = True\n",
    "edu_data.loc[edu_data['UndergradMajor'].str.contains('(?i)Computer science'), 'ComSci'] = True\n",
    "edu_data.loc[edu_data['UndergradMajor'].str.contains('(?i)development'), 'Comsci'] = True\n",
    "edu_data.loc[edu_data['UndergradMajor'].str.contains('(?i)another engineering'), 'OtherEng'] = True\n",
    "edu_data.loc[edu_data['UndergradMajor'].str.contains('(?i)never declared'), 'NoMajor'] = True\n",
    "\n",
    "# melt the boolean columns into variable name \"EduCat\"\n",
    "# (education category)\n",
    "edu_data = edu_data.melt(id_vars=['Year'],\n",
    "                         value_vars=['SocialScience',\n",
    "                                     'NaturalScience',\n",
    "                                     'ComSci',\n",
    "                                     'OtherEng',\n",
    "                                     'NoMajor'],\n",
    "                        var_name='EduCat',\n",
    "                        value_name='EduFlag')\n",
    "\n",
    "# drop null data in modified dataframe and group by \n",
    "# Year and education category (EduCat)\n",
    "edu_data.dropna(how='any', inplace=True)\n",
    "edu_data = edu_data.groupby(['Year', 'EduCat']).count().reset_index()\n",
    "\n",
    "# create a categorical plot (seaborn catplot) to visualize\n",
    "# the disparities in majors among surveyed developers\n",
    "edu_fig = sns.catplot(x='Year', y='EduFlag',\n",
    "                      col='EduCat',\n",
    "                      data=edu_data,\n",
    "                      kind='bar',\n",
    "                      height=6, aspect=1.5)"
   ]
  },
  {
   "cell_type": "markdown",
   "metadata": {},
   "source": [
    "### Step 8: Examine relationship between years of experience and compensation across all surveyed developers, for each year\n",
    "[Click Here to go to Table of Contents](#table-of-contents)"
   ]
  },
  {
   "cell_type": "code",
   "execution_count": 82,
   "metadata": {},
   "outputs": [
    {
     "data": {
      "image/png": "[encoded data removed]",
      "text/plain": [
       "<Figure size 432x288 with 1 Axes>"
      ]
     },
     "metadata": {
      "needs_background": "light"
     },
     "output_type": "display_data"
    }
   ],
   "source": [
    "# create dataframe to isolate necessary data \n",
    "comp_fields = data[['Year', \n",
    "                    'YearsCodePro', \n",
    "                    'ConvertedComp']]\n",
    "\n",
    "# generate plot to analyze relationship between\n",
    "# years of professional experience and compensation\n",
    "prof_years_plot = sns.boxplot(x='Year',\n",
    "                              y='YearsCodePro',\n",
    "                              data=comp_fields)"
   ]
  },
  {
   "cell_type": "code",
   "execution_count": 83,
   "metadata": {},
   "outputs": [
    {
     "data": {
      "image/png": "[encoded data removed]",
      "text/plain": [
       "<Figure size 432x288 with 1 Axes>"
      ]
     },
     "metadata": {
      "needs_background": "light"
     },
     "output_type": "display_data"
    }
   ],
   "source": [
    "# generate plot to analyze relationship between \n",
    "# years of professional experience and scaled\n",
    "# compensation factor\n",
    "converts_plot = sns.boxplot(x='Year',\n",
    "                            y='ConvertedComp',\n",
    "                            data=comp_fields)"
   ]
  },
  {
   "cell_type": "markdown",
   "metadata": {},
   "source": [
    "### Step 9: Fill in missing data points, generating well-fitted data and using multiple imputation\n",
    "[Click Here to go to Table of Contents](#table-of-contents)"
   ]
  },
  {
   "cell_type": "code",
   "execution_count": 84,
   "metadata": {},
   "outputs": [],
   "source": [
    "# import necessary libraries\n",
    "import numpy as np \n",
    "from sklearn.experimental import enable_iterative_imputer\n",
    "from sklearn.impute import IterativeImputer\n",
    "from sklearn.model_selection import train_test_split"
   ]
  },
  {
   "cell_type": "code",
   "execution_count": 85,
   "metadata": {},
   "outputs": [],
   "source": [
    "# isolate features to be imputed\n",
    "impute_data = data[['YearsCodePro', 'ConvertedComp']]\n",
    "\n",
    "# generate training and test data from the impute dataframe\n",
    "train_data, test_data = train_test_split(impute_data,\n",
    "                                         train_size=0.1)\n",
    "\n",
    "# invoke IterativeImputer method to predict missing\n",
    "# data points\n",
    "imp = IterativeImputer(max_iter=20,\n",
    "                       random_state=0)\n",
    "\n",
    "# apply impute data (YearsCodePro, ConvertedComp) to \n",
    "# sklearn.impute.IterativeImputer\n",
    "imp.fit(impute_data)\n",
    "\n",
    "# apply missing data to columns YearsCodePro, ConvertedComp\n",
    "comp_data = pd.DataFrame(np.round(imp.transform(impute_data), 0),\n",
    "                         columns=['YearsCodePro',\n",
    "                                  'ConvertedComp'])"
   ]
  },
  {
   "cell_type": "code",
   "execution_count": 86,
   "metadata": {},
   "outputs": [
    {
     "data": {
      "text/html": [
       "<div>\n",
       "<style scoped>\n",
       "    .dataframe tbody tr th:only-of-type {\n",
       "        vertical-align: middle;\n",
       "    }\n",
       "\n",
       "    .dataframe tbody tr th {\n",
       "        vertical-align: top;\n",
       "    }\n",
       "\n",
       "    .dataframe thead th {\n",
       "        text-align: right;\n",
       "    }\n",
       "</style>\n",
       "<table border=\"1\" class=\"dataframe\">\n",
       "  <thead>\n",
       "    <tr style=\"text-align: right;\">\n",
       "      <th></th>\n",
       "      <th>index</th>\n",
       "      <th>0</th>\n",
       "    </tr>\n",
       "  </thead>\n",
       "  <tbody>\n",
       "    <tr>\n",
       "      <th>0</th>\n",
       "      <td>YearsCodePro</td>\n",
       "      <td>0</td>\n",
       "    </tr>\n",
       "    <tr>\n",
       "      <th>1</th>\n",
       "      <td>ConvertedComp</td>\n",
       "      <td>0</td>\n",
       "    </tr>\n",
       "  </tbody>\n",
       "</table>\n",
       "</div>"
      ],
      "text/plain": [
       "           index  0\n",
       "0   YearsCodePro  0\n",
       "1  ConvertedComp  0"
      ]
     },
     "execution_count": 86,
     "metadata": {},
     "output_type": "execute_result"
    }
   ],
   "source": [
    "# verify that no missing data exists in either column\n",
    "comp_data.isnull().sum().reset_index()"
   ]
  },
  {
   "cell_type": "markdown",
   "metadata": {},
   "source": [
    "### Step 10: Examine relationship between years of professional experience (YearsCodePro) and ConvertedComp post-imputation\n",
    "[Click Here to go to Table of Contents](#table-of-contents)"
   ]
  },
  {
   "cell_type": "code",
   "execution_count": 87,
   "metadata": {},
   "outputs": [
    {
     "data": {
      "text/plain": [
       "<AxesSubplot:xlabel='CodeYearBins', ylabel='ConvertedComp'>"
      ]
     },
     "execution_count": 87,
     "metadata": {},
     "output_type": "execute_result"
    },
    {
     "data": {
      "image/png": "[encoded data removed]",
      "text/plain": [
       "<Figure size 432x288 with 1 Axes>"
      ]
     },
     "metadata": {
      "needs_background": "light"
     },
     "output_type": "display_data"
    }
   ],
   "source": [
    "# generate new dataset to plot that excludes large outliers\n",
    "comp_plot_data = comp_data.loc[comp_data['ConvertedComp'] <= 150000].copy()\n",
    "\n",
    "# create new feature CodeYearBins that slices YearsCodePro into quantile intervals \n",
    "comp_plot_data['CodeYearBins'] = pd.qcut(comp_plot_data['YearsCodePro'], q=5)\n",
    "\n",
    "# generate a boxplot to examine relationship between \n",
    "sns.boxplot(x='CodeYearBins',\n",
    "            y='ConvertedComp',\n",
    "            data=comp_plot_data)"
   ]
  },
  {
   "cell_type": "markdown",
   "metadata": {},
   "source": [
    "### Summary Analysis and Key Takeaways\n",
    "[Click Here to go to Table of Contents](#table-of-contents)"
   ]
  },
  {
   "cell_type": "markdown",
   "metadata": {},
   "source": [
    "* The United States represents the overwhelming plurality of respondents in this survey, with about 49% belonging, followed by ~14% from the both UK and Germany, and all other countries with less than 10%. \n",
    "* The proportion of all missing data that each national plurality contributes to is roughly similar to the proportions of all data represented by each nation, therefore we can assume that any data would be missing completely at random (MCAR) if missing.\n",
    "* Across all types of developers, the United States holds the plurality, if not the outright majority, in all recorded categories. Its largest plurality is in Full-Stack Development, with over 16,000 respondents in the United States claiming belonging, followed by Back-End at 14,000 U.S. responses, and Front-End at just below 10,000 U.S. respondents. The least popular response was Mobile development across all countries recorded. \n",
    "* In 2018, there were over 5,000 missing reports of Undergraduate degrees. The following year, in 2019 there were just under 4,000, and in 2020 there were no missing Undergraduate degree data recorded. This could indicate one or multiple of a few things -- on the one hand, there could have been less undergraduate degree holders responding to the survey than in 2020. \n",
    "* The total amount of responses to the survey declined each consecutive year that it was taken, from 2018 to 2020. So did the amount of missing data in each year as well, and there was (according to the bar chart in Step 6) no recorded missing data in the year 2020 survey. \n",
    "* Excluding extreme outliers (incomes greater than $150,000), average converted compensation has steadily increased from ~$60,000 to ~$100,000 over the time frame of the survey.  "
   ]
  }
 ],
 "metadata": {
  "kernelspec": {
   "display_name": "Python 3",
   "language": "python",
   "name": "python3"
  },
  "language_info": {
   "codemirror_mode": {
    "name": "ipython",
    "version": 3
   },
   "file_extension": ".py",
   "mimetype": "text/x-python",
   "name": "python",
   "nbconvert_exporter": "python",
   "pygments_lexer": "ipython3",
   "version": "3.9.12"
  }
 },
 "nbformat": 4,
 "nbformat_minor": 2
}
